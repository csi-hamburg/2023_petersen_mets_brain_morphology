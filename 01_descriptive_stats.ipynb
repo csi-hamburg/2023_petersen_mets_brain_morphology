{
 "cells": [
  {
   "cell_type": "code",
   "execution_count": 1,
   "metadata": {},
   "outputs": [],
   "source": [
    "import pandas as pd\n",
    "import numpy as np\n",
    "from pathlib import Path"
   ]
  },
  {
   "cell_type": "code",
   "execution_count": 2,
   "metadata": {},
   "outputs": [],
   "source": [
    "code_dir=Path.cwd()\n",
    "project_dir=code_dir.parent\n",
    "input_dir=project_dir/\"input\"\n",
    "output_dir=project_dir/\"output\"\n",
    "tmp_dir=project_dir/\"tmp\""
   ]
  },
  {
   "cell_type": "code",
   "execution_count": 3,
   "metadata": {},
   "outputs": [],
   "source": [
    "variables_ukb = [\n",
    "    \"diagnosis_metabolic_syndrome\",'base_age', 'base_sex', 'base_isced_aggregated',\n",
    "    \"rf_waist_circumference\", \"rf_hip_circumference\", \"rf_waist_hip_ratio\", \"rf_bmi\",\n",
    "    'rf_systolic_bp', 'rf_diastolic_bp', \"medication_antihypertensive\",\n",
    "    \"blood_cholesterol\", 'blood_hdl', \"blood_ldl\", 'blood_triglycerides', \"medication_lipid_lowering\",\n",
    "    \"blood_glucose\", \"medication_antidiabetic\",\n",
    "    \"imaging_cortical_thickness_mean\"\n",
    "]\n",
    "\n",
    "subject_list_ukb = list(pd.read_csv(input_dir/\"subject_list_ukb.csv\", index_col=0).index)\n",
    "y_ukb_df = pd.read_csv(input_dir/\"phenotypical_data_ukb.csv\", index_col=0)\n",
    "y_ukb_df = y_ukb_df.loc[subject_list_ukb,variables_ukb]\n",
    "y_ukb_df.drop_duplicates(inplace=True)"
   ]
  },
  {
   "cell_type": "code",
   "execution_count": 5,
   "metadata": {},
   "outputs": [],
   "source": [
    "variables_hchs = [\n",
    "        \"diagnosis_metabolic_syndrome\",\"age\",\"sex\",\"base_education_isced\",\n",
    "       \"body_waist_circumference\", \"body_hip_circumference\", \"body_waist_hip_ratio\", \"body_bmi\",\n",
    "       \"cvrisk_systolic_blood_pressure_mmhg\",\"cvrisk_diastolic_blood_pressure_mmhg\",\"therapy_antihypertensives\",\n",
    "       \"blood_hdl_mg_dl\", \"blood_ldl_mg_dl\", \"blood_triglycerides_mg_dl\", \"blood_cholesterol_mg_dl\", \"therapy_lipid_lowering\",\n",
    "       \"blood_glucose\",\"therapy_antidiabetic\", \n",
    "       \"mri_cortical_thickness_mean\"\n",
    "]\n",
    "\n",
    "y_hchs_df = pd.read_csv(input_dir/\"subject_list_hchs.csv\", index_col=0)\n",
    "subject_list_hchs = y_hchs_df.index\n",
    "y_hchs_df2 = pd.read_csv(input_dir/\"y_hchs.csv\", index_col=0)\n",
    "y_hchs_df3 = pd.read_csv(input_dir/\"phenotypical_data_hchs.csv\", index_col=0)\n",
    "y_hchs_df = y_hchs_df[[\"age\", \"sex\", \"base_education_isced\"]].join(y_hchs_df2, rsuffix=\"_2\").join(y_hchs_df3, rsuffix=\"_3\")\n",
    "y_hchs_df = y_hchs_df.loc[subject_list_hchs, variables_hchs]\n",
    "y_hchs_df.columns = y_ukb_df.columns\n"
   ]
  },
  {
   "cell_type": "code",
   "execution_count": 6,
   "metadata": {},
   "outputs": [],
   "source": [
    "statistics_df = pd.concat([y_ukb_df, y_hchs_df])"
   ]
  },
  {
   "cell_type": "code",
   "execution_count": 7,
   "metadata": {},
   "outputs": [],
   "source": [
    "variables = [\"diagnosis_metabolic_syndrome\",'base_age', 'base_sex', 'base_isced_aggregated',\n",
    "       \"rf_waist_circumference\", \"rf_hip_circumference\", \"rf_waist_hip_ratio\", \"rf_bmi\",\n",
    "       'rf_systolic_bp', 'rf_diastolic_bp', \"medication_antihypertensive\",\n",
    "       \"blood_cholesterol\", 'blood_hdl', \"blood_ldl\", 'blood_triglycerides', \"medication_lipid_lowering\",\n",
    "       \"blood_glucose\", \"medication_antidiabetic\",\n",
    "       \"imaging_cortical_thickness_mean\"]\n",
    "\n",
    "variables_categorical = ['diagnosis_metabolic_syndrome', 'base_sex', \n",
    "       \"medication_antihypertensive\",\"medication_lipid_lowering\",\"medication_antidiabetic\",\n",
    "       ]\n",
    "\n",
    "variables_continuous = [var for var in variables if var not in variables_categorical]"
   ]
  },
  {
   "cell_type": "code",
   "execution_count": 8,
   "metadata": {},
   "outputs": [],
   "source": [
    "cognition_variables = [col for col in statistics_df.columns if \"cognition\" in col]"
   ]
  },
  {
   "cell_type": "code",
   "execution_count": 9,
   "metadata": {},
   "outputs": [],
   "source": [
    "statistics_df = statistics_df[variables]\n",
    "statistics_df[\"base_sex_numeric\"] = statistics_df[\"base_sex\"].astype(int)\n",
    "for col in variables:\n",
    "    if col in variables_categorical: statistics_df[col] = statistics_df[col].astype(\"object\")\n",
    "    elif col in variables_continuous: statistics_df[col] = statistics_df[col].astype(\"float64\")"
   ]
  },
  {
   "cell_type": "markdown",
   "metadata": {},
   "source": [
    "# Descriptive stats tables"
   ]
  },
  {
   "cell_type": "code",
   "execution_count": 112,
   "metadata": {},
   "outputs": [],
   "source": [
    "from python_functions.descriptive_statistics import stats_1group, finalize_stats_1group # https://csi-hamburg.github.io/python_functions/descriptive_statistics.html"
   ]
  },
  {
   "cell_type": "code",
   "execution_count": null,
   "metadata": {},
   "outputs": [],
   "source": [
    "stats = stats_1group(statistics_df, variables); stats"
   ]
  },
  {
   "cell_type": "code",
   "execution_count": null,
   "metadata": {},
   "outputs": [],
   "source": [
    "stats_styled = finalize_stats_1group(stats); stats_styled"
   ]
  },
  {
   "cell_type": "code",
   "execution_count": 14,
   "metadata": {},
   "outputs": [],
   "source": [
    "Path(output_dir/\"descriptive_statistics\").mkdir(parents=True, exist_ok=True)\n",
    "stats_styled.to_csv(output_dir/\"descriptive_statistics/descriptive_statistics.csv\")"
   ]
  }
 ],
 "metadata": {
  "interpreter": {
   "hash": "e2354512771dad4c667efaf5b68897636356778bda725170f628cbff1df08cc7"
  },
  "kernelspec": {
   "display_name": "Python 3.7.7 ('brainstat')",
   "language": "python",
   "name": "python3"
  },
  "language_info": {
   "codemirror_mode": {
    "name": "ipython",
    "version": 3
   },
   "file_extension": ".py",
   "mimetype": "text/x-python",
   "name": "python",
   "nbconvert_exporter": "python",
   "pygments_lexer": "ipython3",
   "version": "3.7.7"
  },
  "orig_nbformat": 4
 },
 "nbformat": 4,
 "nbformat_minor": 2
}
